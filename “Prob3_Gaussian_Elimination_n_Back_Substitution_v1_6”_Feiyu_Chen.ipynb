{
  "nbformat": 4,
  "nbformat_minor": 0,
  "metadata": {
    "colab": {
      "provenance": [],
      "include_colab_link": true
    },
    "kernelspec": {
      "name": "python3",
      "display_name": "Python 3"
    },
    "language_info": {
      "name": "python"
    }
  },
  "cells": [
    {
      "cell_type": "markdown",
      "metadata": {
        "id": "view-in-github",
        "colab_type": "text"
      },
      "source": [
        "<a href=\"https://colab.research.google.com/github/luckystarC/github-slideshow/blob/csci2033/%E2%80%9CProb3_Gaussian_Elimination_n_Back_Substitution_v1_6%E2%80%9D_Feiyu_Chen.ipynb\" target=\"_parent\"><img src=\"https://colab.research.google.com/assets/colab-badge.svg\" alt=\"Open In Colab\"/></a>"
      ]
    },
    {
      "cell_type": "markdown",
      "source": [
        "### **Problem 3. Gaussian Elimination and Back Substitution**\n"
      ],
      "metadata": {
        "id": "beCJEopMPgls"
      }
    },
    {
      "cell_type": "markdown",
      "source": [
        "Import required packages, and create matrix A and vector b"
      ],
      "metadata": {
        "id": "zqR9G1SBce5k"
      }
    },
    {
      "cell_type": "code",
      "source": [
        "import numpy as np\n",
        "from numpy.linalg import norm\n",
        "# fix  seed  for  reproducible  result. Please  do not  change  the  seed\n",
        "rng = np.random.default_rng(20232033)\n",
        "n = 300\n",
        "A = rng.random((n,n))\n",
        "b = rng.random((n,1))\n",
        "#print(\"A = {}; \\n b = {}\".format(A,b))"
      ],
      "metadata": {
        "id": "o02D3xBdceOb"
      },
      "execution_count": null,
      "outputs": []
    },
    {
      "cell_type": "markdown",
      "source": [
        "**3.1 (1/4) Gaussian Elimination (Version 0)**\n",
        "\n"
      ],
      "metadata": {
        "id": "IBtsWvbFP1MT"
      }
    },
    {
      "cell_type": "markdown",
      "source": [
        "**Implement your own function: TODO**"
      ],
      "metadata": {
        "id": "rv0-JLx4ccX0"
      }
    },
    {
      "cell_type": "code",
      "source": [
        "def gauss_elim_v0(A,b,print_flag=True):\n",
        "  # check whether the calculation is valid\n",
        "  assert A.shape[0] == A.shape[1],\"A must be square!\" # Make sure A is square\n",
        "  assert A.shape[0] == b.shape[0],\"Input dimension doesn't match!\" # Make sure dimmension matches\n",
        "  assert b.shape[1] == 1,\"b is not a vector!\" # Make sure b is a vector\n",
        "  \n",
        "  n = A.shape[0]  \n",
        "  ###### YOUR CODE STARTS HERE ######\n",
        "  U = np.concatenate((A,b), axis = 1) # Using A and b to generate the augmented matrix\n",
        "  #   print your augmented matrix each step while it is modified\n",
        "  #   you could symply use print(U) to print for each step\n",
        "  if (print_flag):\n",
        "    print(U)\n",
        "    print(\"==============================================\")\n",
        "  for k in range(0,n-1):\n",
        "    for j in range(k+1,n):\n",
        "      l = U[j,k]/U[k,k]\n",
        "      U[[j],:]=U[[j],:]-l*U[[k],:]\n",
        "      if (print_flag):\n",
        "        print(U)\n",
        "        print(\"==============================================\")\n",
        "  ###################################\n",
        "  return U"
      ],
      "metadata": {
        "id": "KnG_7xMJbyZH"
      },
      "execution_count": null,
      "outputs": []
    },
    {
      "cell_type": "markdown",
      "source": [
        "**Validate your result here using the example shown to you**"
      ],
      "metadata": {
        "id": "2LngVcSpAV4s"
      }
    },
    {
      "cell_type": "code",
      "source": [
        "A_example1 = np.array([[1,-1,1],[2,-1,3],[2,0,3]],dtype=np.float64)\n",
        "b_example1 = np.array([[1],[4],[5]],dtype=np.float64)\n",
        "\n",
        "U_example1 = gauss_elim_v0(A_example1,b_example1,True)\n",
        "\n",
        "print(U_example1)"
      ],
      "metadata": {
        "id": "CAwO4VrJvKbn",
        "colab": {
          "base_uri": "https://localhost:8080/"
        },
        "outputId": "690bc8d1-7936-433f-99b3-229d2f185b28"
      },
      "execution_count": null,
      "outputs": [
        {
          "output_type": "stream",
          "name": "stdout",
          "text": [
            "[[ 1. -1.  1.  1.]\n",
            " [ 2. -1.  3.  4.]\n",
            " [ 2.  0.  3.  5.]]\n",
            "==============================================\n",
            "[[ 1. -1.  1.  1.]\n",
            " [ 0.  1.  1.  2.]\n",
            " [ 2.  0.  3.  5.]]\n",
            "==============================================\n",
            "[[ 1. -1.  1.  1.]\n",
            " [ 0.  1.  1.  2.]\n",
            " [ 0.  2.  1.  3.]]\n",
            "==============================================\n",
            "[[ 1. -1.  1.  1.]\n",
            " [ 0.  1.  1.  2.]\n",
            " [ 0.  0. -1. -1.]]\n",
            "==============================================\n",
            "[[ 1. -1.  1.  1.]\n",
            " [ 0.  1.  1.  2.]\n",
            " [ 0.  0. -1. -1.]]\n"
          ]
        }
      ]
    },
    {
      "cell_type": "markdown",
      "source": [
        "**3.2 (2/4) Back Substitution**"
      ],
      "metadata": {
        "id": "d1JO-0mDc_WG"
      }
    },
    {
      "cell_type": "code",
      "source": [
        "# this function will check whether the matrix is in row echelon form\n",
        "def check_row_echelon(U):\n",
        "  eps = np.finfo(np.float32).eps # updated here!!! \n",
        "  # Previous version: eps = np.finfo(np.float64).eps\n",
        "  test = np.tril(U,-1)\n",
        "  #print(test) np.abs(test)\n",
        "  return np.all(abs(test)<=eps)\n"
      ],
      "metadata": {
        "id": "b_B7vKLJ7_GK"
      },
      "execution_count": null,
      "outputs": []
    },
    {
      "cell_type": "markdown",
      "source": [
        "**Implement your own function: TODO**"
      ],
      "metadata": {
        "id": "X8peXcljdLbk"
      }
    },
    {
      "cell_type": "code",
      "source": [
        "def back_subs(U,print_flag = True):\n",
        "  assert  check_row_echelon(U),\"U must be in row echelon form\"\n",
        "\n",
        "  n = U.shape[0]\n",
        "  x = np.zeros((n,1))\n",
        "  ###### YOUR CODE STARTS HERE ######\n",
        "  # print x[i] in the loop\n",
        "  C = U[:,[-1]]\n",
        "  D = U[:,:-1] \n",
        "  x[n-1]=C[n-1]/D[n-1,n-1]\n",
        "  for i in range(n-1,-1,-1):\n",
        "    tem=0\n",
        "    for j in range(i+1,n):\n",
        "      tem=tem+D[i,j]*x[j]\n",
        "    x[i]=(C[i]-tem)/D[i,i]\n",
        "    if(print_flag):\n",
        "      print(\"R{}:x{}={}\".format(i,i,x[i][0]))\n",
        "      print(x[i])\n",
        "    \n",
        "  ###################################\n",
        "  return x"
      ],
      "metadata": {
        "id": "WyPQk4oUdLbw"
      },
      "execution_count": null,
      "outputs": []
    },
    {
      "cell_type": "markdown",
      "source": [
        "Validate your result here using the example shown to you"
      ],
      "metadata": {
        "id": "a2y5ro0CAwuO"
      }
    },
    {
      "cell_type": "code",
      "source": [
        "x_example1 = back_subs(U_example1,True)\n",
        "print(x_example1)"
      ],
      "metadata": {
        "id": "txt8hYgjAb0H",
        "colab": {
          "base_uri": "https://localhost:8080/"
        },
        "outputId": "101966b5-a9b3-4914-d22f-3c472c6aa393"
      },
      "execution_count": null,
      "outputs": [
        {
          "output_type": "stream",
          "name": "stdout",
          "text": [
            "R2:x2=1.0\n",
            "[1.]\n",
            "R1:x1=1.0\n",
            "[1.]\n",
            "R0:x0=1.0\n",
            "[1.]\n",
            "[[1.]\n",
            " [1.]\n",
            " [1.]]\n"
          ]
        }
      ]
    },
    {
      "cell_type": "markdown",
      "source": [
        "**Call your own functions and validate your solutions (x1) by using relative distance ||Ax1 - b||/||A||: TODO**"
      ],
      "metadata": {
        "id": "1ieP2tTRA_lU"
      }
    },
    {
      "cell_type": "code",
      "source": [
        "def my_solver_v0(A,b):\n",
        "  \n",
        "  U = gauss_elim_v0(A,b,False)\n",
        "  ###### YOUR CODE STARTS HERE ######\n",
        "  x = back_subs(U,False)\n",
        "  ###################################\n",
        "  return x"
      ],
      "metadata": {
        "id": "RWUpGBf_fHaf"
      },
      "execution_count": null,
      "outputs": []
    },
    {
      "cell_type": "markdown",
      "source": [
        "Validate your result here"
      ],
      "metadata": {
        "id": "d42JNHyCfTaZ"
      }
    },
    {
      "cell_type": "code",
      "source": [
        "###### YOUR CODE STARTS HERE ######\n",
        "\n",
        "x1= my_solver_v0(A,b)\n",
        "dist =norm(np.matmul(A,x1)-b)/norm(A)\n",
        "###################################\n",
        "print(\"The relative error ||Ax1-b||/||A|| = {}\".format(dist))"
      ],
      "metadata": {
        "id": "bEWZ1-codh6c",
        "colab": {
          "base_uri": "https://localhost:8080/"
        },
        "outputId": "caabd226-76ab-4282-8061-1a4d269dff3a"
      },
      "execution_count": null,
      "outputs": [
        {
          "output_type": "stream",
          "name": "stdout",
          "text": [
            "The relative error ||Ax1-b||/||A|| = 3.040481265980074e-12\n"
          ]
        }
      ]
    },
    {
      "cell_type": "markdown",
      "source": [
        "**Call the numpy built-in function to solve the given questions (solution is x2), and compare it with your result using relative distance ||x1-x2||/||x2||: TODO**"
      ],
      "metadata": {
        "id": "CkbJEjcddh6b"
      }
    },
    {
      "cell_type": "code",
      "source": [
        "###### YOUR CODE STARTS HERE ######\n",
        "\n",
        "x2 = np.linalg.solve(A,b)\n",
        "\n",
        "dist = norm(x1-x2)/norm(x2)\n",
        "# \n",
        "\n",
        "###################################\n",
        "print(\"The relative distance ||x1-x2||/||x2|| = {}\".format(dist))"
      ],
      "metadata": {
        "id": "ITNlR8aDc_d7",
        "colab": {
          "base_uri": "https://localhost:8080/"
        },
        "outputId": "f68de868-2dfa-4b45-991c-cb4cc0b0b269"
      },
      "execution_count": null,
      "outputs": [
        {
          "output_type": "stream",
          "name": "stdout",
          "text": [
            "The relative distance ||x1-x2||/||x2|| = 3.128314482595351e-11\n"
          ]
        }
      ]
    },
    {
      "cell_type": "markdown",
      "source": [
        "**3.3 (1/4) Gaussian Elimination (Version 1)**"
      ],
      "metadata": {
        "id": "woJMty-zJYIg"
      }
    },
    {
      "cell_type": "code",
      "source": [
        "A[0,0] = 0"
      ],
      "metadata": {
        "id": "xPEnWvZJlB_P"
      },
      "execution_count": null,
      "outputs": []
    },
    {
      "cell_type": "markdown",
      "source": [
        "**Implement your own function: TODO**"
      ],
      "metadata": {
        "id": "5Zis1E3_yhur"
      }
    },
    {
      "cell_type": "code",
      "source": [
        "def gauss_elim_v1(A,b,print_flag):\n",
        "  # check whether the calculation is valid\n",
        "  assert A.shape[0] == A.shape[1],\"A must be square\" # Make sure A is square\n",
        "  assert A.shape[0] == b.shape[0],\"Input dimension doesn't match\" # Make sure dimmension matches\n",
        "  assert b.shape[1] == 1,\"b is not a vector\" # Make sure b is a vector\n",
        "\n",
        "  n = A.shape[0]  \n",
        "  ###### YOUR CODE STARTS HERE ######\n",
        "  U = np.concatenate((A,b), axis = 1) # Using A and b to generate the augmented matrix\n",
        "  #   print your augmented matrix each step while it is modified\n",
        "  #   you could symply use print(U) to print for each step\n",
        "  if (print_flag):\n",
        "    print(U)\n",
        "    print(\"==============================================\")\n",
        "  for k in range(0,n-1):\n",
        "    largest=0\n",
        "    for i in range(k,n):\n",
        "      if largest<np.abs(U[i,k]):\n",
        "        largest=U[i,k]\n",
        "    tem=U[[k],:]\n",
        "    U[[k],:]=U[[i],:]\n",
        "    U[[i],:]=tem\n",
        "    for j in range(k+1,n):\n",
        "      l = U[j,k]/U[k,k]\n",
        "      U[[j],:]=U[[j],:]-l*U[[k],:]\n",
        "      if (print_flag):\n",
        "        print(U)\n",
        "        print(\"==============================================\")\n",
        "\n",
        "  \n",
        "  ###################################\n",
        "  return U"
      ],
      "metadata": {
        "id": "UvebooaeypVh"
      },
      "execution_count": null,
      "outputs": []
    },
    {
      "cell_type": "code",
      "source": [
        "def my_solver_v1(A,b):\n",
        "  U = gauss_elim_v1(A,b,False)\n",
        "  ###### YOUR CODE STARTS HERE ######\n",
        "  x = back_subs(U,False) # reuse your back_substitution function here\n",
        "  ###################################\n",
        "\n",
        "  return x"
      ],
      "metadata": {
        "id": "Fj3fDTs3yb9H"
      },
      "execution_count": null,
      "outputs": []
    },
    {
      "cell_type": "markdown",
      "source": [
        "**Validate your result here using the example shown to you**"
      ],
      "metadata": {
        "id": "7lkce3ssy2WZ"
      }
    },
    {
      "cell_type": "code",
      "source": [
        "A_example2 = np.array([[0,1,1],[2,6,4],[1,1,4]],dtype=np.float64)\n",
        "b_example2 = np.array([[-1],[6],[9]],dtype=np.float64)\n",
        "\n",
        "U_example2 = gauss_elim_v1(A_example2,b_example2,True)\n",
        "\n",
        "print(U_example2)"
      ],
      "metadata": {
        "id": "T4yC1prUy6Z3",
        "colab": {
          "base_uri": "https://localhost:8080/"
        },
        "outputId": "180efc70-cb9c-4e3d-80da-d810f9f4fbad"
      },
      "execution_count": null,
      "outputs": [
        {
          "output_type": "stream",
          "name": "stdout",
          "text": [
            "[[ 0.  1.  1. -1.]\n",
            " [ 2.  6.  4.  6.]\n",
            " [ 1.  1.  4.  9.]]\n",
            "==============================================\n",
            "[[  1.   1.   4.   9.]\n",
            " [  0.   4.  -4. -12.]\n",
            " [  0.   1.   1.  -1.]]\n",
            "==============================================\n",
            "[[  1.   1.   4.   9.]\n",
            " [  0.   4.  -4. -12.]\n",
            " [  0.   1.   1.  -1.]]\n",
            "==============================================\n",
            "[[ 1.  1.  4.  9.]\n",
            " [ 0.  1.  1. -1.]\n",
            " [ 0.  0. -8. -8.]]\n",
            "==============================================\n",
            "[[ 1.  1.  4.  9.]\n",
            " [ 0.  1.  1. -1.]\n",
            " [ 0.  0. -8. -8.]]\n"
          ]
        }
      ]
    },
    {
      "cell_type": "markdown",
      "source": [
        "**Call your own functions and validate your solutions (x1) by using relative distance ||Ax1 - b||/||A||: TODO**"
      ],
      "metadata": {
        "id": "qCx8avMjkcik"
      }
    },
    {
      "cell_type": "code",
      "source": [
        "###### YOUR CODE STARTS HERE ######\n",
        "\n",
        "x1 = my_solver_v1(A,b)\n",
        "dist =norm(np.matmul(A,x1)-b)/norm(A)\n",
        "\n",
        "\n",
        "###################################\n",
        "print(\"The relative error ||Ax1-b||/||A|| = {}\".format(dist))"
      ],
      "metadata": {
        "id": "vF6qkhvJkciq",
        "colab": {
          "base_uri": "https://localhost:8080/"
        },
        "outputId": "7c9d8627-8447-468f-f8b0-194df02eb1a6"
      },
      "execution_count": null,
      "outputs": [
        {
          "output_type": "stream",
          "name": "stdout",
          "text": [
            "The relative error ||Ax1-b||/||A|| = 4.928122502406297e-13\n"
          ]
        }
      ]
    },
    {
      "cell_type": "markdown",
      "source": [
        "**Call the numpy built-in function to solve the given questions (solution is x2), and compare it with your result using relative distance ||x1-x2||/||x2||: TODO**"
      ],
      "metadata": {
        "id": "DjBQCOD1kciq"
      }
    },
    {
      "cell_type": "code",
      "source": [
        "###### YOUR CODE STARTS HERE ######\n",
        "\n",
        "x2 = np.linalg.solve(A,b)\n",
        "dist = norm(x1-x2)/norm(x2) \n",
        "\n",
        "###################################\n",
        "print(\"The relative distance ||x1-x2||/||x2|| = {}\".format(dist))"
      ],
      "metadata": {
        "id": "Mrirem20kciq",
        "colab": {
          "base_uri": "https://localhost:8080/"
        },
        "outputId": "d2a9d9a7-9ef3-4167-fe58-726f217bfc04"
      },
      "execution_count": null,
      "outputs": [
        {
          "output_type": "stream",
          "name": "stdout",
          "text": [
            "The relative distance ||x1-x2||/||x2|| = 2.1039651635182303e-12\n"
          ]
        }
      ]
    }
  ]
}