{
  "nbformat": 4,
  "nbformat_minor": 0,
  "metadata": {
    "colab": {
      "provenance": [],
      "include_colab_link": true
    },
    "kernelspec": {
      "name": "python3",
      "display_name": "Python 3"
    },
    "language_info": {
      "name": "python"
    }
  },
  "cells": [
    {
      "cell_type": "markdown",
      "metadata": {
        "id": "view-in-github",
        "colab_type": "text"
      },
      "source": [
        "<a href=\"https://colab.research.google.com/github/luckystarC/github-slideshow/blob/csci2033/%E2%80%9CProb4_Nearest_Neighbor_Classification_v1_6%E2%80%9D_Feiyu_Chen.ipynb\" target=\"_parent\"><img src=\"https://colab.research.google.com/assets/colab-badge.svg\" alt=\"Open In Colab\"/></a>"
      ]
    },
    {
      "cell_type": "markdown",
      "source": [
        "### **Problem 4. Nearest Neighbor Classification**\n"
      ],
      "metadata": {
        "id": "beCJEopMPgls"
      }
    },
    {
      "cell_type": "markdown",
      "source": [
        "### **Data Initialization**\n",
        "\n"
      ],
      "metadata": {
        "id": "IBtsWvbFP1MT"
      }
    },
    {
      "cell_type": "code",
      "source": [
        "import numpy as np\n",
        "from keras.datasets import mnist\n",
        "from matplotlib import pyplot\n",
        "from numpy.linalg import norm\n",
        "\n",
        "(X_train, y_train), (X_test,y_test) = mnist.load_data()\n",
        "\n",
        "X_train = X_train[:600,:,:].astype(\"float32\")/255 # Scale images to the [0,1] range\n",
        "y_train = y_train[:600]\n",
        "N_train = X_train.shape[0]\n",
        "X_train = X_train.reshape((N_train,28*28))\n",
        "\n",
        "X_test = X_test[:100,:,:].astype(\"float32\")/255 # Scale images to the [0,1] range\n",
        "y_test = y_test[:100]\n",
        "N_test = X_test.shape[0]\n",
        "X_test = X_test.reshape((N_test,28*28))\n",
        "\n",
        "print(\"Trainset X shape: \" + str(X_train.shape))\n",
        "print(\"train label y shape: \" + str(y_train.shape))\n",
        "print(\"Testset X shape: \" + str(X_test.shape))\n",
        "print(\"test label y shape: \" + str(y_test.shape))"
      ],
      "metadata": {
        "colab": {
          "base_uri": "https://localhost:8080/"
        },
        "id": "o02D3xBdceOb",
        "outputId": "015cac98-735c-4ed3-e92d-f4abbf628658"
      },
      "execution_count": null,
      "outputs": [
        {
          "output_type": "stream",
          "name": "stdout",
          "text": [
            "Downloading data from https://storage.googleapis.com/tensorflow/tf-keras-datasets/mnist.npz\n",
            "11490434/11490434 [==============================] - 1s 0us/step\n",
            "Trainset X shape: (600, 784)\n",
            "train label y shape: (600,)\n",
            "Testset X shape: (100, 784)\n",
            "test label y shape: (100,)\n"
          ]
        }
      ]
    },
    {
      "cell_type": "markdown",
      "source": [
        "**4.1 (1/4) Data Visualization**\n",
        "Please use this provided function to solve 4.1"
      ],
      "metadata": {
        "id": "rv0-JLx4ccX0"
      }
    },
    {
      "cell_type": "code",
      "source": [
        "def visualization(idx_lst,data,label):\n",
        "  '''\n",
        "  This function is used to visualize original dataset X or cluster representative matrix Z \n",
        "  '''\n",
        "  N = data.shape[0]\n",
        "  for idx in idx_lst:\n",
        "    pyplot.imshow(data.reshape((N,28,28))[idx], cmap=pyplot.get_cmap('gray'))\n",
        "    pyplot.show()\n",
        "    print(\"The corresponding label of this image is {}\".format(label[idx]))"
      ],
      "metadata": {
        "id": "KnG_7xMJbyZH"
      },
      "execution_count": null,
      "outputs": []
    },
    {
      "cell_type": "markdown",
      "source": [
        "Example: visualize the first two images in the trainset:"
      ],
      "metadata": {
        "id": "Cmh4QoWY_LNK"
      }
    },
    {
      "cell_type": "code",
      "source": [
        "visualization(np.arange(2),X_train,y_train)"
      ],
      "metadata": {
        "colab": {
          "base_uri": "https://localhost:8080/",
          "height": 548
        },
        "id": "VkZWMO_O_XTd",
        "outputId": "2b478e0d-9ea2-4a6a-d5e9-ff2a13b17337"
      },
      "execution_count": null,
      "outputs": [
        {
          "output_type": "display_data",
          "data": {
            "text/plain": [
              "<Figure size 432x288 with 1 Axes>"
            ],
            "image/png": "[encoded data removed]"
          },
          "metadata": {
            "needs_background": "light"
          }
        },
        {
          "output_type": "stream",
          "name": "stdout",
          "text": [
            "The corresponding label of this image is 5\n"
          ]
        },
        {
          "output_type": "display_data",
          "data": {
            "text/plain": [
              "<Figure size 432x288 with 1 Axes>"
            ],
            "image/png": "[encoded data removed]"
          },
          "metadata": {
            "needs_background": "light"
          }
        },
        {
          "output_type": "stream",
          "name": "stdout",
          "text": [
            "The corresponding label of this image is 0\n"
          ]
        }
      ]
    },
    {
      "cell_type": "markdown",
      "source": [
        "Alternative way for the above example:"
      ],
      "metadata": {
        "id": "_Ljt2a5__j42"
      }
    },
    {
      "cell_type": "code",
      "source": [
        "visualization([0,1],X_train,y_train)"
      ],
      "metadata": {
        "colab": {
          "base_uri": "https://localhost:8080/",
          "height": 548
        },
        "outputId": "1692176f-c55d-45f4-debf-98c0b6a22761",
        "id": "ZrXB81XC_j43"
      },
      "execution_count": null,
      "outputs": [
        {
          "output_type": "display_data",
          "data": {
            "text/plain": [
              "<Figure size 432x288 with 1 Axes>"
            ],
            "image/png": "[encoded data removed]"
          },
          "metadata": {
            "needs_background": "light"
          }
        },
        {
          "output_type": "stream",
          "name": "stdout",
          "text": [
            "The corresponding label of this image is 5\n"
          ]
        },
        {
          "output_type": "display_data",
          "data": {
            "text/plain": [
              "<Figure size 432x288 with 1 Axes>"
            ],
            "image/png": "[encoded data removed]"
          },
          "metadata": {
            "needs_background": "light"
          }
        },
        {
          "output_type": "stream",
          "name": "stdout",
          "text": [
            "The corresponding label of this image is 0\n"
          ]
        }
      ]
    },
    {
      "cell_type": "markdown",
      "source": [
        "**Visualize the first and third images (row vectors) in X_train: TODO**"
      ],
      "metadata": {
        "id": "9rCjSouY__aW"
      }
    },
    {
      "cell_type": "code",
      "source": [
        "###### YOUR CODE STARTS HERE ######\n",
        "visualization([0,2],X_train,y_train)\n",
        "\n",
        "###################################"
      ],
      "metadata": {
        "id": "Lhs4O4v3__aX",
        "colab": {
          "base_uri": "https://localhost:8080/",
          "height": 548
        },
        "outputId": "6029adf2-f56f-4d29-b77b-ef9c6749e66d"
      },
      "execution_count": null,
      "outputs": [
        {
          "output_type": "display_data",
          "data": {
            "text/plain": [
              "<Figure size 432x288 with 1 Axes>"
            ],
            "image/png": "[encoded data removed]"
          },
          "metadata": {
            "needs_background": "light"
          }
        },
        {
          "output_type": "stream",
          "name": "stdout",
          "text": [
            "The corresponding label of this image is 5\n"
          ]
        },
        {
          "output_type": "display_data",
          "data": {
            "text/plain": [
              "<Figure size 432x288 with 1 Axes>"
            ],
            "image/png": "[encoded data removed]"
          },
          "metadata": {
            "needs_background": "light"
          }
        },
        {
          "output_type": "stream",
          "name": "stdout",
          "text": [
            "The corresponding label of this image is 4\n"
          ]
        }
      ]
    },
    {
      "cell_type": "markdown",
      "source": [
        "**Visualize the last 5 images (row vectors) in X_test: TODO**"
      ],
      "metadata": {
        "id": "JOt9JQhh_wk9"
      }
    },
    {
      "cell_type": "code",
      "source": [
        "###### YOUR CODE STARTS HERE ######\n",
        "visualization([95,96,97,98,99],X_test,y_test)\n",
        "###################################"
      ],
      "metadata": {
        "id": "12Gqqr1q_wtq",
        "colab": {
          "base_uri": "https://localhost:8080/",
          "height": 1000
        },
        "outputId": "301e9107-b68b-4971-8e22-9987dd98e1f4"
      },
      "execution_count": null,
      "outputs": [
        {
          "output_type": "display_data",
          "data": {
            "text/plain": [
              "<Figure size 432x288 with 1 Axes>"
            ],
            "image/png": "[encoded data removed]"
          },
          "metadata": {
            "needs_background": "light"
          }
        },
        {
          "output_type": "stream",
          "name": "stdout",
          "text": [
            "The corresponding label of this image is 4\n"
          ]
        },
        {
          "output_type": "display_data",
          "data": {
            "text/plain": [
              "<Figure size 432x288 with 1 Axes>"
            ],
            "image/png": "[encoded data removed]"
          },
          "metadata": {
            "needs_background": "light"
          }
        },
        {
          "output_type": "stream",
          "name": "stdout",
          "text": [
            "The corresponding label of this image is 1\n"
          ]
        },
        {
          "output_type": "display_data",
          "data": {
            "text/plain": [
              "<Figure size 432x288 with 1 Axes>"
            ],
            "image/png": "[encoded data removed]"
          },
          "metadata": {
            "needs_background": "light"
          }
        },
        {
          "output_type": "stream",
          "name": "stdout",
          "text": [
            "The corresponding label of this image is 7\n"
          ]
        },
        {
          "output_type": "display_data",
          "data": {
            "text/plain": [
              "<Figure size 432x288 with 1 Axes>"
            ],
            "image/png": "[encoded data removed]"
          },
          "metadata": {
            "needs_background": "light"
          }
        },
        {
          "output_type": "stream",
          "name": "stdout",
          "text": [
            "The corresponding label of this image is 6\n"
          ]
        },
        {
          "output_type": "display_data",
          "data": {
            "text/plain": [
              "<Figure size 432x288 with 1 Axes>"
            ],
            "image/png": "[encoded data removed]"
          },
          "metadata": {
            "needs_background": "light"
          }
        },
        {
          "output_type": "stream",
          "name": "stdout",
          "text": [
            "The corresponding label of this image is 9\n"
          ]
        }
      ]
    },
    {
      "cell_type": "markdown",
      "source": [
        "**Write down their corresponding labels here: TODO**"
      ],
      "metadata": {
        "id": "g6sENsGoAP2c"
      }
    },
    {
      "cell_type": "markdown",
      "source": [
        "first and third images (row vectors) in X_train: 5 4 and \n",
        "last 5 images (row vectors) in X_test:4 1 7 6 9\n"
      ],
      "metadata": {
        "id": "yyoLaw92vDdU"
      }
    },
    {
      "cell_type": "markdown",
      "source": [
        "**4.2 (1/4) Distance Calculation**\n",
        "These three vectors represents three images"
      ],
      "metadata": {
        "id": "rBqSregDAjXb"
      }
    },
    {
      "cell_type": "code",
      "source": [
        "v1 = X_train[1]\n",
        "v2 = X_train[8]\n",
        "w = X_test[5]\n",
        "print(v1.shape)\n",
        "print(w.shape)"
      ],
      "metadata": {
        "colab": {
          "base_uri": "https://localhost:8080/"
        },
        "id": "-QjJ7ihrAoL-",
        "outputId": "22b7317f-1f44-43bb-c64e-1eb4b564e062"
      },
      "execution_count": null,
      "outputs": [
        {
          "output_type": "stream",
          "name": "stdout",
          "text": [
            "(784,)\n",
            "(784,)\n"
          ]
        }
      ]
    },
    {
      "cell_type": "markdown",
      "source": [
        "Visualization them (in the order of v1, v2, w):"
      ],
      "metadata": {
        "id": "YEiUlgOeAz9T"
      }
    },
    {
      "cell_type": "code",
      "source": [
        "visualization([1,8],X_train,y_train)\n",
        "visualization([5],X_test,y_test)"
      ],
      "metadata": {
        "colab": {
          "base_uri": "https://localhost:8080/",
          "height": 813
        },
        "id": "Pjtab8oCAzVc",
        "outputId": "e51eb495-1670-43a9-e6ab-4dc2555752e7"
      },
      "execution_count": null,
      "outputs": [
        {
          "output_type": "display_data",
          "data": {
            "text/plain": [
              "<Figure size 432x288 with 1 Axes>"
            ],
            "image/png": "[encoded data removed]"
          },
          "metadata": {
            "needs_background": "light"
          }
        },
        {
          "output_type": "stream",
          "name": "stdout",
          "text": [
            "The corresponding label of this image is 0\n"
          ]
        },
        {
          "output_type": "display_data",
          "data": {
            "text/plain": [
              "<Figure size 432x288 with 1 Axes>"
            ],
            "image/png": "[encoded data removed]"
          },
          "metadata": {
            "needs_background": "light"
          }
        },
        {
          "output_type": "stream",
          "name": "stdout",
          "text": [
            "The corresponding label of this image is 1\n"
          ]
        },
        {
          "output_type": "display_data",
          "data": {
            "text/plain": [
              "<Figure size 432x288 with 1 Axes>"
            ],
            "image/png": "[encoded data removed]"
          },
          "metadata": {
            "needs_background": "light"
          }
        },
        {
          "output_type": "stream",
          "name": "stdout",
          "text": [
            "The corresponding label of this image is 1\n"
          ]
        }
      ]
    },
    {
      "cell_type": "markdown",
      "source": [
        "**Calculate distances between (1) v1 and w; (2) v2 and w: TODO**"
      ],
      "metadata": {
        "id": "KtDCXzYSB9Ff"
      }
    },
    {
      "cell_type": "code",
      "source": [
        "###### YOUR CODE STARTS HERE ######\n",
        "dist1 = norm(v1-w)\n",
        "dist2 = norm(v2-w)\n",
        "###################################\n",
        "print(\"dist between v1 and w = {}; \\ndist between v2 and w = {}\".format(dist1,dist2))"
      ],
      "metadata": {
        "id": "KGAKvMtkB9NM",
        "colab": {
          "base_uri": "https://localhost:8080/"
        },
        "outputId": "3980f0dc-1cb6-40e7-8db7-30ab8d3fcd22"
      },
      "execution_count": null,
      "outputs": [
        {
          "output_type": "stream",
          "name": "stdout",
          "text": [
            "dist between v1 and w = 10.470195770263672; \n",
            "dist between v2 and w = 7.066826820373535\n"
          ]
        }
      ]
    },
    {
      "cell_type": "markdown",
      "source": [
        "**What does the comparison of distances tell us? Which two images are likely to be more similar to each other as told by the distances? You can upload the photo of your handwritten answer, or type your answer here directly: TODO**"
      ],
      "metadata": {
        "id": "GjO6WEHAD_iA"
      }
    },
    {
      "cell_type": "markdown",
      "source": [
        "dist between v1 and w is 10.470 which is larger than the dist between v2 and w which is 7.067. Therefore w is predicted to be of class v2 whose image corresponding label is 1."
      ],
      "metadata": {
        "id": "oYIFchqQscms"
      }
    },
    {
      "cell_type": "markdown",
      "source": [
        "**4.3 (2/4) KNN Implementation**\n"
      ],
      "metadata": {
        "id": "1B8hu9BC8pKZ"
      }
    },
    {
      "cell_type": "markdown",
      "source": [
        "**Write your code: TODO**"
      ],
      "metadata": {
        "id": "oBoayp12IKYJ"
      }
    },
    {
      "cell_type": "code",
      "source": [
        "def knn(X_train,y_train,X_test,y_test,k=7):\n",
        "  N_train = X_train.shape[0]\n",
        "  N_test = X_test.shape[0]\n",
        "  y_predict = -np.ones((N_test, 1), dtype=int)\n",
        "  ###### YOUR CODE STARTS HERE ######\n",
        "  for i in range(0,N_test):\n",
        "    x=X_test[i]\n",
        "    d=np.zeros(N_train,dtype=float)\n",
        "    for j in range(0,N_train):\n",
        "      d[j]=norm(x-X_train[j])\n",
        "    sorted_ind = np.argsort(d)\n",
        "    bottom_ind = sorted_ind[:k]\n",
        "    bottom_labels = y_train[bottom_ind]\n",
        "    lab_counts = np.bincount(bottom_labels)\n",
        "    most_frequent_label = np.argmax(lab_counts)\n",
        "    y_predict[i]=most_frequent_label\n",
        "  ###################################\n",
        "  return y_predict"
      ],
      "metadata": {
        "id": "1MEqF6ivuVfP"
      },
      "execution_count": null,
      "outputs": []
    },
    {
      "cell_type": "markdown",
      "source": [
        "Validation code"
      ],
      "metadata": {
        "id": "nya3N4ezIOGG"
      }
    },
    {
      "cell_type": "code",
      "source": [
        "# Updated here v1.6\n",
        "y_predict = knn(X_train,y_train,X_test,y_test,7)\n",
        "y_predict = y_predict.flatten()\n",
        "predict_acc = np.sum((y_predict-y_test)==0)/N_test\n",
        "print(\"The prediction accuracy = {}%, which should be greater than 80%\".format(predict_acc*100))"
      ],
      "metadata": {
        "id": "b-_3Yc94xR_C",
        "colab": {
          "base_uri": "https://localhost:8080/"
        },
        "outputId": "e1550491-54f3-41a7-cc86-d510f9b5feb5"
      },
      "execution_count": null,
      "outputs": [
        {
          "output_type": "stream",
          "name": "stdout",
          "text": [
            "The prediction accuracy = 83.0%, which should be greater than 80%\n"
          ]
        }
      ]
    }
  ]
}