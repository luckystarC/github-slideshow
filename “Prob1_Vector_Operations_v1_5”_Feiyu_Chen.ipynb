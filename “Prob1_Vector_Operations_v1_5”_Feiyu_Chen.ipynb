{
  "nbformat": 4,
  "nbformat_minor": 0,
  "metadata": {
    "colab": {
      "provenance": [],
      "include_colab_link": true
    },
    "kernelspec": {
      "name": "python3",
      "display_name": "Python 3"
    },
    "language_info": {
      "name": "python"
    }
  },
  "cells": [
    {
      "cell_type": "markdown",
      "metadata": {
        "id": "view-in-github",
        "colab_type": "text"
      },
      "source": [
        "<a href=\"https://colab.research.google.com/github/luckystarC/github-slideshow/blob/csci2033/%E2%80%9CProb1_Vector_Operations_v1_5%E2%80%9D_Feiyu_Chen.ipynb\" target=\"_parent\"><img src=\"https://colab.research.google.com/assets/colab-badge.svg\" alt=\"Open In Colab\"/></a>"
      ]
    },
    {
      "cell_type": "markdown",
      "source": [
        "### **Problem 1. Vector Operations**"
      ],
      "metadata": {
        "id": "beCJEopMPgls"
      }
    },
    {
      "cell_type": "code",
      "source": [
        "import numpy as np\n",
        "# fix  seed  for  reproducible  result. Please  do not  change  the  seed\n",
        "rng = np.random.default_rng(20232033)\n",
        "u = rng.random((10000 ,1))\n",
        "v = rng.random((10000 ,1))\n",
        "w = rng.random((10000 ,1))"
      ],
      "metadata": {
        "id": "OFK6B193P0X7"
      },
      "execution_count": null,
      "outputs": []
    },
    {
      "cell_type": "markdown",
      "source": [
        "**1.1 (0.9/3) Vector Indexing and Concatenation**"
      ],
      "metadata": {
        "id": "XX_7ppPwRYij"
      }
    },
    {
      "cell_type": "code",
      "source": [
        "###### YOUR CODE STARTS HERE ######\n",
        "\n",
        "# solution_1_a = \n",
        "solution_1_a=u[2021:2022]\n",
        "# solution_1_b = \n",
        "solution_1_b=v[2021:2032]\n",
        "# solution_1_c = ?\n",
        "solution_1_c=np.concatenate((u[:29],v[-100:]), axis = 0)\n",
        "###################################\n",
        "print(solution_1_a)\n",
        "print()\n",
        "print(solution_1_b)\n",
        "print()\n",
        "print(solution_1_c)"
      ],
      "metadata": {
        "id": "mC4tIRWgRY4_"
      },
      "execution_count": null,
      "outputs": []
    },
    {
      "cell_type": "markdown",
      "source": [
        "**1.2 (0.6/3) Linear Combination**"
      ],
      "metadata": {
        "id": "8vCdkir8SYZz"
      }
    },
    {
      "cell_type": "code",
      "source": [
        "###### YOUR CODE STARTS HERE ######\n",
        "# solution_2_a = ?\n",
        "solution_2_a=u+v+w\n",
        "# solution_2_b = ?\n",
        "solution_2_b=2*u+3*v+3*w\n",
        "###################################\n",
        "\n",
        "print(solution_2_a)\n",
        "print()\n",
        "print(solution_2_b)"
      ],
      "metadata": {
        "id": "eExUqdIfUMwi",
        "colab": {
          "base_uri": "https://localhost:8080/"
        },
        "outputId": "1ce4826d-3068-4a54-9c86-ffd3a0111cbc"
      },
      "execution_count": null,
      "outputs": [
        {
          "output_type": "stream",
          "name": "stdout",
          "text": [
            "[[2.08485402]\n",
            " [1.73665664]\n",
            " [1.50197551]\n",
            " ...\n",
            " [2.29001003]\n",
            " [1.9876794 ]\n",
            " [1.64777379]]\n",
            "\n",
            "[[5.46122687]\n",
            " [4.67762199]\n",
            " [3.5376305 ]\n",
            " ...\n",
            " [6.3975946 ]\n",
            " [5.16694204]\n",
            " [4.42177553]]\n"
          ]
        }
      ]
    },
    {
      "cell_type": "markdown",
      "source": [
        "**1.3 (0.9/3) Inner Product**"
      ],
      "metadata": {
        "id": "BlTsHDPgDBIi"
      }
    },
    {
      "cell_type": "code",
      "source": [
        "###### YOUR CODE STARTS HERE ######\n",
        "\n",
        "# solution_3_a = ?\n",
        "uf=u.flatten()\n",
        "solution_3_a=np.inner(uf,uf)\n",
        "\n",
        "# solution_3_b = ?\n",
        "wf=w.flatten()\n",
        "solution_3_b=np.inner((u-2*v).flatten(),wf)\n",
        "\n",
        "# solution_3_c = ?\n",
        "solution_3_c=np.inner((3*u).flatten(),(2*v+w).flatten())\n",
        "###################################\n",
        "print(solution_3_a)\n",
        "print()\n",
        "print(solution_3_b)\n",
        "print()\n",
        "print(solution_3_c)"
      ],
      "metadata": {
        "id": "W3I4x3-NDBUZ",
        "colab": {
          "base_uri": "https://localhost:8080/"
        },
        "outputId": "498636f4-76ff-4251-aa79-5f72717ba6f9"
      },
      "execution_count": null,
      "outputs": [
        {
          "output_type": "stream",
          "name": "stdout",
          "text": [
            "3334.1385686005715\n",
            "\n",
            "-2485.1550842450188\n",
            "\n",
            "22422.60043616603\n"
          ]
        }
      ]
    },
    {
      "cell_type": "markdown",
      "source": [
        "**1.4 (0.6/3) Vector Norm**"
      ],
      "metadata": {
        "id": "jnHGLV8qVK9c"
      }
    },
    {
      "cell_type": "code",
      "source": [
        "###### YOUR CODE STARTS HERE ######\n",
        "from numpy import linalg as LA\n",
        "solution_4_a = LA.norm(u)\n",
        "\n",
        "solution_4_b = LA.norm(v+3*w)\n",
        "\n",
        "###################################\n",
        "print(solution_4_a)\n",
        "print()\n",
        "print(solution_4_b)"
      ],
      "metadata": {
        "id": "D9zDIopGVLIq",
        "colab": {
          "base_uri": "https://localhost:8080/"
        },
        "outputId": "b3d901c7-ed3a-4732-b9c9-ceb6aae647d7"
      },
      "execution_count": null,
      "outputs": [
        {
          "output_type": "stream",
          "name": "stdout",
          "text": [
            "57.74200003983731\n",
            "\n",
            "219.0097026340124\n"
          ]
        }
      ]
    }
  ]
}